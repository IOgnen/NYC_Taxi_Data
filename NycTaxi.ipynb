{
 "cells": [
  {
   "cell_type": "code",
   "execution_count": 109,
   "metadata": {},
   "outputs": [],
   "source": [
    "import pandas as pd\n",
    "import numpy as np\n",
    "\n",
    "path = 'F:/DataEngineering/Resources/NYCTaxiCsv/taxi_trip_data.csv'"
   ]
  },
  {
   "cell_type": "code",
   "execution_count": 111,
   "metadata": {},
   "outputs": [],
   "source": [
    "# Read data\n",
    "data = pd.read_csv(path)"
   ]
  },
  {
   "cell_type": "code",
   "execution_count": 112,
   "metadata": {},
   "outputs": [
    {
     "data": {
      "text/plain": [
       "vendor_id              0\n",
       "pickup_datetime        0\n",
       "dropoff_datetime       0\n",
       "passenger_count        0\n",
       "trip_distance          0\n",
       "rate_code              0\n",
       "store_and_fwd_flag     0\n",
       "payment_type           0\n",
       "fare_amount            0\n",
       "extra                  0\n",
       "mta_tax                0\n",
       "tip_amount             0\n",
       "tolls_amount           0\n",
       "imp_surcharge          0\n",
       "total_amount           0\n",
       "pickup_location_id     0\n",
       "dropoff_location_id    0\n",
       "dtype: int64"
      ]
     },
     "execution_count": 112,
     "metadata": {},
     "output_type": "execute_result"
    }
   ],
   "source": [
    "# Understanding the data\n",
    "#data.shape\n",
    "#data.info()\n",
    "#data.head()\n",
    "\n",
    "# TODO:#1 - Create a new dataFrame for the data.\n",
    "#         - Check for duplicates, and remove those.\n",
    "#         - Columns 'pickup_datetime' and 'dropoff_datetime' are object format. Needs to be converted to datetime format.\n",
    "#         - Columns'payment_type' and 'rate_code' is object format. Needs to be converted to category format.\n",
    "#         - Column 'store_and_fwd_flag' is object format. Needs to be converted to boolean format.\n",
    "\n",
    "# TODO:#2 - Check for missing values, zeros where they are not allowed.\n",
    "#         - Inspect 'passenger_count', 'trip_distance' and 'fare_amount' for zeros, and remove those\n",
    "\n",
    "# Cheking for missing values\n",
    "data.isnull().sum()\n",
    "# There are no missing values in the data."
   ]
  },
  {
   "cell_type": "markdown",
   "metadata": {},
   "source": [
    "Resolving the TODOs #1"
   ]
  },
  {
   "cell_type": "code",
   "execution_count": 113,
   "metadata": {},
   "outputs": [
    {
     "name": "stdout",
     "output_type": "stream",
     "text": [
      "There are:  607571  duplicates in the data\n",
      "Removed :  607571 duplicates\n"
     ]
    }
   ],
   "source": [
    "# Creating a copy of the data in a temporary dataFrame\n",
    "dataFrame = data.copy()\n",
    "# Checking for duplicates\n",
    "print('There are: ', np.sum(data.duplicated()), ' duplicates in the data')\n",
    "dataFrame = dataFrame.drop_duplicates()\n",
    "# Checking the data after removing duplicates\n",
    "print('Removed : ', data.shape[0] - dataFrame.shape[0], 'duplicates')"
   ]
  },
  {
   "cell_type": "code",
   "execution_count": null,
   "metadata": {},
   "outputs": [
    {
     "name": "stdout",
     "output_type": "stream",
     "text": [
      "The store_and_fwd_flag column has values = [False  True]\n",
      "<class 'pandas.core.frame.DataFrame'>\n",
      "Index: 9392429 entries, 0 to 9999988\n",
      "Data columns (total 17 columns):\n",
      " #   Column               Dtype         \n",
      "---  ------               -----         \n",
      " 0   vendor_id            int64         \n",
      " 1   pickup_datetime      datetime64[ns]\n",
      " 2   dropoff_datetime     datetime64[ns]\n",
      " 3   passenger_count      int64         \n",
      " 4   trip_distance        float64       \n",
      " 5   rate_code            category      \n",
      " 6   store_and_fwd_flag   bool          \n",
      " 7   payment_type         category      \n",
      " 8   fare_amount          float64       \n",
      " 9   extra                float64       \n",
      " 10  mta_tax              float64       \n",
      " 11  tip_amount           float64       \n",
      " 12  tolls_amount         float64       \n",
      " 13  imp_surcharge        float64       \n",
      " 14  total_amount         float64       \n",
      " 15  pickup_location_id   int64         \n",
      " 16  dropoff_location_id  int64         \n",
      "dtypes: bool(1), category(2), datetime64[ns](2), float64(8), int64(4)\n",
      "memory usage: 1.1 GB\n"
     ]
    }
   ],
   "source": [
    "# Converting data types\n",
    "dataFrame['pickup_datetime'] = pd.to_datetime(dataFrame['pickup_datetime'])\n",
    "dataFrame['dropoff_datetime'] = pd.to_datetime(dataFrame['dropoff_datetime'])\n",
    "dataFrame['payment_type'] = dataFrame['payment_type'].astype('category')\n",
    "dataFrame['rate_code'] = dataFrame['rate_code'].astype('category')\n",
    "\n",
    "# Inspecting 'store_and_fwd_flag' column\n",
    "dataFrame['store_and_fwd_flag'].unique()\n",
    "dataFrame['store_and_fwd_flag'].value_counts()\n",
    "# Two values N and Y. Converting N to False and Y to True\n",
    "dataFrame['store_and_fwd_flag'] = dataFrame['store_and_fwd_flag'].map({'N': False, 'Y': True})\n",
    "dataFrame['store_and_fwd_flag'] = dataFrame['store_and_fwd_flag'].astype('bool')\n",
    "\n",
    "#Checking the data after conversion\n",
    "print('The store_and_fwd_flag column has values =' , dataFrame['store_and_fwd_flag'].unique())\n",
    "dataFrame.info()"
   ]
  },
  {
   "cell_type": "markdown",
   "metadata": {},
   "source": [
    "Resolving the TODOs #2"
   ]
  },
  {
   "cell_type": "code",
   "execution_count": 115,
   "metadata": {},
   "outputs": [
    {
     "name": "stdout",
     "output_type": "stream",
     "text": [
      "[1 2 5 6 4 3 0 8 7 9]\n",
      "There are:  85779 values where paasenger_count is 0\n",
      "There are now :  1 values where passenger_count is 0\n"
     ]
    }
   ],
   "source": [
    "# Inspecting passenger_count\n",
    "print(dataFrame['passenger_count'].unique())\n",
    "# There are passenger_count with value 0.\n",
    "print('There are: ' ,np.sum(dataFrame['passenger_count'] == 0), 'values where paasenger_count is 0')\n",
    "# Removing the rows with passenger_count = 0\n",
    "dataFrame = dataFrame.drop(dataFrame[dataFrame['passenger_count'] == 0].index)\n",
    "#Checking the data after removing\n",
    "print('There are now : ', len([dataFrame[dataFrame['passenger_count'] == 0]]), 'values where passenger_count is 0')"
   ]
  },
  {
   "cell_type": "code",
   "execution_count": 117,
   "metadata": {},
   "outputs": [
    {
     "name": "stdout",
     "output_type": "stream",
     "text": [
      "There are:  259703 values where trip_distance is 0\n",
      "There are now:  0 values where trip_distance is 0\n"
     ]
    }
   ],
   "source": [
    "# Inspecting trip_distance\n",
    "# Checking for trip_distance = 0\n",
    "print('There are: ', np.sum(dataFrame['trip_distance'].values == 0), 'values where trip_distance is 0')\n",
    "# Removing the rows with trip_distance = 0\n",
    "dataFrame = dataFrame.drop(dataFrame[dataFrame['trip_distance'] == 0].index)\n",
    "# Checking the data after removing\n",
    "print('There are now: ', len(dataFrame[dataFrame['trip_distance'] == 0]), 'values where trip_distance is 0')"
   ]
  },
  {
   "cell_type": "code",
   "execution_count": 118,
   "metadata": {},
   "outputs": [
    {
     "name": "stdout",
     "output_type": "stream",
     "text": [
      "There are:  5525 values where fare_amount is 0\n",
      "There are now:  0 values where fare_amount is 0\n"
     ]
    }
   ],
   "source": [
    "# Inspecting fare_amount\n",
    "# Checking for fare_amount = 0\n",
    "print('There are: ', np.sum([dataFrame['fare_amount'].values == 0]), 'values where fare_amount is 0')\n",
    "# Removing the rows with fare_amount = 0\n",
    "dataFrame = dataFrame.drop(dataFrame[dataFrame['fare_amount'] == 0].index)\n",
    "# Checking the data after removing\n",
    "print('There are now: ', len(dataFrame[dataFrame['fare_amount'] == 0]), 'values where fare_amount is 0')"
   ]
  }
 ],
 "metadata": {
  "kernelspec": {
   "display_name": "Python 3",
   "language": "python",
   "name": "python3"
  },
  "language_info": {
   "codemirror_mode": {
    "name": "ipython",
    "version": 3
   },
   "file_extension": ".py",
   "mimetype": "text/x-python",
   "name": "python",
   "nbconvert_exporter": "python",
   "pygments_lexer": "ipython3",
   "version": "3.10.5"
  }
 },
 "nbformat": 4,
 "nbformat_minor": 2
}
